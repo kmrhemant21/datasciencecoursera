{
 "cells": [
  {
   "cell_type": "markdown",
   "id": "dee657ea-589c-4b13-b055-65ad5a83a429",
   "metadata": {},
   "source": [
    "# Data Science Tools and Ecosystem"
   ]
  },
  {
   "cell_type": "markdown",
   "id": "4c8f475e-be72-4674-9557-4277beca1548",
   "metadata": {},
   "source": [
    "In this notebook, Data Science Tools and Ecosystem are summarized."
   ]
  },
  {
   "cell_type": "markdown",
   "id": "e61a2bb9-f972-495f-8594-1103ed8d983b",
   "metadata": {},
   "source": [
    "**Objectives:**\n",
    "- List popular languages for Data Science\n",
    "- List commonly used libraries by Data Scientists\n",
    "- List some open-source development environment tools\n",
    "- Introduce arithmetic expressions"
   ]
  },
  {
   "cell_type": "markdown",
   "id": "55c80f13-82df-4a41-97ef-3a1795fa3391",
   "metadata": {},
   "source": [
    "Some of the popular languages that Data Scientists use are:\n",
    "1. Python\n",
    "2. R\n",
    "3. Julia\n",
    "4. SQL\n",
    "5. Scala"
   ]
  },
  {
   "cell_type": "markdown",
   "id": "efbb8283-f70e-4159-b0f6-9afd38304dee",
   "metadata": {},
   "source": [
    "Some of the commonly used libraries used by Data Scientists include:\n",
    "\n",
    "For Python:\n",
    "1. TensorFlow\n",
    "2. Seaborn\n",
    "3. Keras\n",
    "4. Pandas\n",
    "5. PyTorch\n",
    "6. Matplotlib\n",
    "7. NumPy\n",
    "8. Scikit-Learn\n",
    "9. SciPy\n",
    "10. Statsmodels\n",
    "\n",
    "For R:\n",
    "1. plotly\n",
    "2. caret\n",
    "3. dplyr\n",
    "4. ggplot\n",
    "5. stringr\n",
    "6. tidyr\n",
    "7. shiny\n",
    "\n",
    "For Scala:\n",
    "1. BigDL\n",
    "2. Vegas\n",
    "3. Breeze"
   ]
  },
  {
   "cell_type": "markdown",
   "id": "30d4ac23-c29c-4ef7-a7a1-12989dd8e2b9",
   "metadata": {},
   "source": [
    "| Data Science Tools |\n",
    "| ------------------ |\n",
    "| Jupyter Notebooks |\n",
    "| Rstudio |\n",
    "| Spyder |"
   ]
  },
  {
   "cell_type": "markdown",
   "id": "f58a2369-cd59-4902-bed4-9329e905565c",
   "metadata": {},
   "source": [
    "### Below are a few examples of evaluating arithmetic expressions in Python"
   ]
  },
  {
   "cell_type": "code",
   "execution_count": 7,
   "id": "f9dfd8a7-891f-4747-bb38-302ff200316e",
   "metadata": {},
   "outputs": [
    {
     "data": {
      "text/plain": [
       "14"
      ]
     },
     "execution_count": 7,
     "metadata": {},
     "output_type": "execute_result"
    }
   ],
   "source": [
    "# Addition \n",
    "5+9"
   ]
  },
  {
   "cell_type": "code",
   "execution_count": 8,
   "id": "026d2876-0e85-4be3-9454-e7476ee3fea9",
   "metadata": {},
   "outputs": [
    {
     "data": {
      "text/plain": [
       "8"
      ]
     },
     "execution_count": 8,
     "metadata": {},
     "output_type": "execute_result"
    }
   ],
   "source": [
    "# Multiplication\n",
    "4*2"
   ]
  },
  {
   "cell_type": "code",
   "execution_count": 9,
   "id": "288af0c3-562a-48ab-8171-acea9b3a76e8",
   "metadata": {},
   "outputs": [
    {
     "data": {
      "text/plain": [
       "2"
      ]
     },
     "execution_count": 9,
     "metadata": {},
     "output_type": "execute_result"
    }
   ],
   "source": [
    "# Subtraction\n",
    "3-1"
   ]
  },
  {
   "cell_type": "code",
   "execution_count": 10,
   "id": "a224e928-2606-4ba8-9b49-f063f1571273",
   "metadata": {},
   "outputs": [
    {
     "data": {
      "text/plain": [
       "2.0"
      ]
     },
     "execution_count": 10,
     "metadata": {},
     "output_type": "execute_result"
    }
   ],
   "source": [
    "# Division\n",
    "6/3"
   ]
  },
  {
   "cell_type": "code",
   "execution_count": 11,
   "id": "d44685bf-959c-44c5-a19e-c8dea5831412",
   "metadata": {},
   "outputs": [
    {
     "data": {
      "text/plain": [
       "18"
      ]
     },
     "execution_count": 11,
     "metadata": {},
     "output_type": "execute_result"
    }
   ],
   "source": [
    "# This a simple arithmetic expression to mutiply then add integers\n",
    "(3*4)+6"
   ]
  },
  {
   "cell_type": "code",
   "execution_count": 12,
   "id": "91a32068-2999-47fb-be0f-583a20cb01aa",
   "metadata": {},
   "outputs": [
    {
     "name": "stdout",
     "output_type": "stream",
     "text": [
      "33.333333333333336\n"
     ]
    }
   ],
   "source": [
    "# This will convert 200 minutes to hours by diving by 60\n",
    "a=2000\n",
    "b=60\n",
    "c=a/b\n",
    "print(c)"
   ]
  },
  {
   "cell_type": "markdown",
   "id": "9861e1dc-4148-4112-a70b-838357fa7b1d",
   "metadata": {},
   "source": [
    "## Author\n",
    "Hemant Kumar"
   ]
  },
  {
   "cell_type": "code",
   "execution_count": null,
   "id": "6b2da3dc-ddc6-4896-9237-e4af2a6ee317",
   "metadata": {},
   "outputs": [],
   "source": []
  }
 ],
 "metadata": {
  "kernelspec": {
   "display_name": "Python 3",
   "language": "python",
   "name": "python3"
  },
  "language_info": {
   "codemirror_mode": {
    "name": "ipython",
    "version": 3
   },
   "file_extension": ".py",
   "mimetype": "text/x-python",
   "name": "python",
   "nbconvert_exporter": "python",
   "pygments_lexer": "ipython3",
   "version": "3.9.6"
  }
 },
 "nbformat": 4,
 "nbformat_minor": 5
}
