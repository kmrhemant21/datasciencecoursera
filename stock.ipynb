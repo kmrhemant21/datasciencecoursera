{
 "cells": [
  {
   "cell_type": "code",
   "execution_count": 32,
   "metadata": {},
   "outputs": [
    {
     "name": "stdout",
     "output_type": "stream",
     "text": [
      "Defaulting to user installation because normal site-packages is not writeable\n",
      "Requirement already satisfied: yfinance in /Users/hemank/Library/Python/3.9/lib/python/site-packages (0.2.51)\n",
      "Requirement already satisfied: beautifulsoup4 in /Users/hemank/Library/Python/3.9/lib/python/site-packages (4.12.3)\n",
      "Requirement already satisfied: pandas in /Users/hemank/Library/Python/3.9/lib/python/site-packages (2.2.3)\n",
      "Requirement already satisfied: matplotlib in /Users/hemank/Library/Python/3.9/lib/python/site-packages (3.9.4)\n",
      "Requirement already satisfied: seaborn in /Users/hemank/Library/Python/3.9/lib/python/site-packages (0.13.2)\n",
      "Requirement already satisfied: selenium in /Users/hemank/Library/Python/3.9/lib/python/site-packages (4.27.1)\n",
      "Requirement already satisfied: webdriver-manager in /Users/hemank/Library/Python/3.9/lib/python/site-packages (4.0.2)\n",
      "Collecting msedge-selenium-tools\n",
      "  Downloading msedge_selenium_tools-3.141.4-py3-none-any.whl (15 kB)\n",
      "Requirement already satisfied: numpy>=1.16.5 in /Users/hemank/Library/Python/3.9/lib/python/site-packages (from yfinance) (2.0.2)\n",
      "Requirement already satisfied: requests>=2.31 in /Users/hemank/Library/Python/3.9/lib/python/site-packages (from yfinance) (2.32.3)\n",
      "Requirement already satisfied: multitasking>=0.0.7 in /Users/hemank/Library/Python/3.9/lib/python/site-packages (from yfinance) (0.0.11)\n",
      "Requirement already satisfied: lxml>=4.9.1 in /Users/hemank/Library/Python/3.9/lib/python/site-packages (from yfinance) (5.3.0)\n",
      "Requirement already satisfied: platformdirs>=2.0.0 in /Users/hemank/Library/Python/3.9/lib/python/site-packages (from yfinance) (4.3.6)\n",
      "Requirement already satisfied: pytz>=2022.5 in /Users/hemank/Library/Python/3.9/lib/python/site-packages (from yfinance) (2024.2)\n",
      "Requirement already satisfied: frozendict>=2.3.4 in /Users/hemank/Library/Python/3.9/lib/python/site-packages (from yfinance) (2.4.6)\n",
      "Requirement already satisfied: peewee>=3.16.2 in /Users/hemank/Library/Python/3.9/lib/python/site-packages (from yfinance) (3.17.8)\n",
      "Requirement already satisfied: html5lib>=1.1 in /Users/hemank/Library/Python/3.9/lib/python/site-packages (from yfinance) (1.1)\n",
      "Requirement already satisfied: soupsieve>1.2 in /Users/hemank/Library/Python/3.9/lib/python/site-packages (from beautifulsoup4) (2.6)\n",
      "Requirement already satisfied: python-dateutil>=2.8.2 in /Users/hemank/Library/Python/3.9/lib/python/site-packages (from pandas) (2.8.2)\n",
      "Requirement already satisfied: tzdata>=2022.7 in /Users/hemank/Library/Python/3.9/lib/python/site-packages (from pandas) (2024.2)\n",
      "Requirement already satisfied: contourpy>=1.0.1 in /Users/hemank/Library/Python/3.9/lib/python/site-packages (from matplotlib) (1.3.0)\n",
      "Requirement already satisfied: cycler>=0.10 in /Users/hemank/Library/Python/3.9/lib/python/site-packages (from matplotlib) (0.12.1)\n",
      "Requirement already satisfied: fonttools>=4.22.0 in /Users/hemank/Library/Python/3.9/lib/python/site-packages (from matplotlib) (4.55.3)\n",
      "Requirement already satisfied: kiwisolver>=1.3.1 in /Users/hemank/Library/Python/3.9/lib/python/site-packages (from matplotlib) (1.4.7)\n",
      "Requirement already satisfied: packaging>=20.0 in /Users/hemank/Library/Python/3.9/lib/python/site-packages (from matplotlib) (21.0)\n",
      "Requirement already satisfied: pillow>=8 in /Users/hemank/Library/Python/3.9/lib/python/site-packages (from matplotlib) (11.1.0)\n",
      "Requirement already satisfied: pyparsing>=2.3.1 in /Users/hemank/Library/Python/3.9/lib/python/site-packages (from matplotlib) (2.4.7)\n",
      "Requirement already satisfied: importlib-resources>=3.2.0 in /Users/hemank/Library/Python/3.9/lib/python/site-packages (from matplotlib) (6.5.2)\n",
      "Requirement already satisfied: urllib3[socks]<3,>=1.26 in /Users/hemank/Library/Python/3.9/lib/python/site-packages (from selenium) (1.26.6)\n",
      "Requirement already satisfied: trio~=0.17 in /Users/hemank/Library/Python/3.9/lib/python/site-packages (from selenium) (0.28.0)\n",
      "Requirement already satisfied: trio-websocket~=0.9 in /Users/hemank/Library/Python/3.9/lib/python/site-packages (from selenium) (0.11.1)\n",
      "Requirement already satisfied: certifi>=2021.10.8 in /Users/hemank/Library/Python/3.9/lib/python/site-packages (from selenium) (2022.12.7)\n",
      "Requirement already satisfied: typing_extensions~=4.9 in /Users/hemank/Library/Python/3.9/lib/python/site-packages (from selenium) (4.12.2)\n",
      "Requirement already satisfied: websocket-client~=1.8 in /Users/hemank/Library/Python/3.9/lib/python/site-packages (from selenium) (1.8.0)\n",
      "Requirement already satisfied: python-dotenv in /Users/hemank/Library/Python/3.9/lib/python/site-packages (from webdriver-manager) (1.0.1)\n",
      "Collecting selenium\n",
      "  Downloading selenium-3.141.0-py2.py3-none-any.whl (904 kB)\n",
      "\u001b[2K     \u001b[90m━━━━━━━━━━━━━━━━━━━━━━━━━━━━━━━━━━━━━━━\u001b[0m \u001b[32m904.6/904.6 kB\u001b[0m \u001b[31m6.1 MB/s\u001b[0m eta \u001b[36m0:00:00\u001b[0m00:01\u001b[0m00:01\u001b[0m\n",
      "\u001b[?25hRequirement already satisfied: six>=1.9 in /Users/hemank/Library/Python/3.9/lib/python/site-packages (from html5lib>=1.1->yfinance) (1.16.0)\n",
      "Requirement already satisfied: webencodings in /Users/hemank/Library/Python/3.9/lib/python/site-packages (from html5lib>=1.1->yfinance) (0.5.1)\n",
      "Requirement already satisfied: zipp>=3.1.0 in /Users/hemank/Library/Python/3.9/lib/python/site-packages (from importlib-resources>=3.2.0->matplotlib) (3.21.0)\n",
      "Requirement already satisfied: charset-normalizer<4,>=2 in /Users/hemank/Library/Python/3.9/lib/python/site-packages (from requests>=2.31->yfinance) (2.0.4)\n",
      "Requirement already satisfied: idna<4,>=2.5 in /Users/hemank/Library/Python/3.9/lib/python/site-packages (from requests>=2.31->yfinance) (3.2)\n",
      "Requirement already satisfied: attrs>=23.2.0 in /Users/hemank/Library/Python/3.9/lib/python/site-packages (from trio~=0.17->selenium) (24.3.0)\n",
      "Requirement already satisfied: sortedcontainers in /Users/hemank/Library/Python/3.9/lib/python/site-packages (from trio~=0.17->selenium) (2.4.0)\n",
      "Requirement already satisfied: outcome in /Users/hemank/Library/Python/3.9/lib/python/site-packages (from trio~=0.17->selenium) (1.3.0.post0)\n",
      "Requirement already satisfied: sniffio>=1.3.0 in /Users/hemank/Library/Python/3.9/lib/python/site-packages (from trio~=0.17->selenium) (1.3.1)\n",
      "Requirement already satisfied: exceptiongroup in /Users/hemank/Library/Python/3.9/lib/python/site-packages (from trio~=0.17->selenium) (1.2.2)\n",
      "Requirement already satisfied: wsproto>=0.14 in /Users/hemank/Library/Python/3.9/lib/python/site-packages (from trio-websocket~=0.9->selenium) (1.2.0)\n",
      "Requirement already satisfied: h11<1,>=0.9.0 in /Users/hemank/Library/Python/3.9/lib/python/site-packages (from wsproto>=0.14->trio-websocket~=0.9->selenium) (0.14.0)\n",
      "Requirement already satisfied: PySocks!=1.5.7,<2.0,>=1.5.6 in /Users/hemank/Library/Python/3.9/lib/python/site-packages (from urllib3[socks]<3,>=1.26->selenium) (1.7.1)\n",
      "Installing collected packages: selenium, msedge-selenium-tools\n",
      "  Attempting uninstall: selenium\n",
      "    Found existing installation: selenium 4.27.1\n",
      "    Uninstalling selenium-4.27.1:\n",
      "      Successfully uninstalled selenium-4.27.1\n",
      "Successfully installed msedge-selenium-tools-3.141.4 selenium-3.141.0\n",
      "\n",
      "\u001b[1m[\u001b[0m\u001b[34;49mnotice\u001b[0m\u001b[1;39;49m]\u001b[0m\u001b[39;49m A new release of pip is available: \u001b[0m\u001b[31;49m23.1.2\u001b[0m\u001b[39;49m -> \u001b[0m\u001b[32;49m24.3.1\u001b[0m\n",
      "\u001b[1m[\u001b[0m\u001b[34;49mnotice\u001b[0m\u001b[1;39;49m]\u001b[0m\u001b[39;49m To update, run: \u001b[0m\u001b[32;49m/Library/Developer/CommandLineTools/usr/bin/python3 -m pip install --upgrade pip\u001b[0m\n",
      "Note: you may need to restart the kernel to use updated packages.\n"
     ]
    }
   ],
   "source": [
    "pip install yfinance beautifulsoup4 pandas matplotlib seaborn"
   ]
  },
  {
   "cell_type": "code",
   "execution_count": 17,
   "metadata": {},
   "outputs": [
    {
     "name": "stdout",
     "output_type": "stream",
     "text": [
      "['Solarize_Light2', '_classic_test_patch', '_mpl-gallery', '_mpl-gallery-nogrid', 'bmh', 'classic', 'dark_background', 'fast', 'fivethirtyeight', 'ggplot', 'grayscale', 'seaborn-v0_8', 'seaborn-v0_8-bright', 'seaborn-v0_8-colorblind', 'seaborn-v0_8-dark', 'seaborn-v0_8-dark-palette', 'seaborn-v0_8-darkgrid', 'seaborn-v0_8-deep', 'seaborn-v0_8-muted', 'seaborn-v0_8-notebook', 'seaborn-v0_8-paper', 'seaborn-v0_8-pastel', 'seaborn-v0_8-poster', 'seaborn-v0_8-talk', 'seaborn-v0_8-ticks', 'seaborn-v0_8-white', 'seaborn-v0_8-whitegrid', 'tableau-colorblind10']\n"
     ]
    }
   ],
   "source": [
    "import yfinance as yf\n",
    "import pandas as pd\n",
    "import matplotlib.pyplot as plt\n",
    "from bs4 import BeautifulSoup\n",
    "import requests\n",
    "# List available styles\n",
    "print(plt.style.available)\n",
    "\n",
    "# Configure Matplotlib with a valid style\n",
    "# plt.style.use('seaborn-darkgrid') \n",
    "# Configure Matplotlib\n",
    "plt.style.use('seaborn-v0_8-notebook')"
   ]
  },
  {
   "cell_type": "code",
   "execution_count": 18,
   "metadata": {},
   "outputs": [
    {
     "name": "stdout",
     "output_type": "stream",
     "text": [
      "                       Date      Open      High       Low     Close  \\\n",
      "0 2010-06-29 00:00:00-04:00  1.266667  1.666667  1.169333  1.592667   \n",
      "1 2010-06-30 00:00:00-04:00  1.719333  2.028000  1.553333  1.588667   \n",
      "2 2010-07-01 00:00:00-04:00  1.666667  1.728000  1.351333  1.464000   \n",
      "3 2010-07-02 00:00:00-04:00  1.533333  1.540000  1.247333  1.280000   \n",
      "4 2010-07-06 00:00:00-04:00  1.333333  1.333333  1.055333  1.074000   \n",
      "\n",
      "      Volume  Dividends  Stock Splits  \n",
      "0  281494500        0.0           0.0  \n",
      "1  257806500        0.0           0.0  \n",
      "2  123282000        0.0           0.0  \n",
      "3   77097000        0.0           0.0  \n",
      "4  103003500        0.0           0.0  \n"
     ]
    }
   ],
   "source": [
    "# Download Tesla stock data\n",
    "tesla_data = yf.Ticker(\"TSLA\")\n",
    "tesla_stock = tesla_data.history(period=\"max\")\n",
    "\n",
    "# Display the first few rows\n",
    "tesla_stock.reset_index(inplace=True)\n",
    "print(tesla_stock.head())\n",
    "\n",
    "# Save to CSV\n",
    "tesla_stock.to_csv(\"tesla_stock.csv\", index=False)"
   ]
  },
  {
   "cell_type": "code",
   "execution_count": null,
   "metadata": {},
   "outputs": [],
   "source": [
    "# Web scrape Tesla revenue data\n",
    "url = \"https://www.macrotrends.net/stocks/charts/TSLA/tesla/revenue\"\n",
    "response = requests.get(url)\n",
    "soup = BeautifulSoup(response.text, 'html.parser')\n",
    "\n",
    "# Extract table data\n",
    "tables = soup.find_all('table')\n",
    "tesla_revenue = pd.read_html(str(tables))[1]\n",
    "\n",
    "# Clean the data\n",
    "tesla_revenue.columns = ['Date', 'Revenue']\n",
    "tesla_revenue['Revenue'] = tesla_revenue['Revenue'].str.replace(r'\\$', '').str.replace(',', '').astype(float)\n",
    "tesla_revenue.dropna(inplace=True)\n",
    "\n",
    "# Display the cleaned data\n",
    "print(tesla_revenue.head())\n",
    "\n",
    "# Save to CSV\n",
    "tesla_revenue.to_csv(\"tesla_revenue.csv\", index=False)"
   ]
  },
  {
   "cell_type": "code",
   "execution_count": 38,
   "metadata": {},
   "outputs": [
    {
     "name": "stdout",
     "output_type": "stream",
     "text": [
      "                       Date      Open      High       Low     Close    Volume  \\\n",
      "0 2002-02-13 00:00:00-05:00  1.620128  1.693350  1.603296  1.691666  76216000   \n",
      "1 2002-02-14 00:00:00-05:00  1.712707  1.716074  1.670626  1.683250  11021600   \n",
      "2 2002-02-15 00:00:00-05:00  1.683250  1.687458  1.658002  1.674834   8389600   \n",
      "3 2002-02-19 00:00:00-05:00  1.666418  1.666418  1.578047  1.607504   7410400   \n",
      "4 2002-02-20 00:00:00-05:00  1.615920  1.662210  1.603296  1.662210   6892800   \n",
      "\n",
      "   Dividends  Stock Splits  \n",
      "0        0.0           0.0  \n",
      "1        0.0           0.0  \n",
      "2        0.0           0.0  \n",
      "3        0.0           0.0  \n",
      "4        0.0           0.0  \n"
     ]
    }
   ],
   "source": [
    "# Download GameStop stock data\n",
    "gme_data = yf.Ticker(\"GME\")\n",
    "gme_stock = gme_data.history(period=\"max\")\n",
    "\n",
    "# Display the first few rows\n",
    "gme_stock.reset_index(inplace=True)\n",
    "print(gme_stock.head())\n",
    "\n",
    "# Save to CSV\n",
    "gme_stock.to_csv(\"gme_stock.csv\", index=False)"
   ]
  },
  {
   "cell_type": "code",
   "execution_count": null,
   "metadata": {},
   "outputs": [],
   "source": [
    "# Web scrape GameStop revenue data\n",
    "url = \"https://www.macrotrends.net/stocks/charts/GME/gamestop/revenue\"\n",
    "response = requests.get(url)\n",
    "soup = BeautifulSoup(response.text, 'html.parser')\n",
    "\n",
    "# Extract table data\n",
    "tables = soup.find_all('table')\n",
    "gme_revenue = pd.read_html(str(tables))[1]\n",
    "\n",
    "# Clean the data\n",
    "gme_revenue.columns = ['Date', 'Revenue']\n",
    "gme_revenue['Revenue'] = gme_revenue['Revenue'].str.replace(r'\\$', '').str.replace(',', '').astype(float)\n",
    "gme_revenue.dropna(inplace=True)\n",
    "\n",
    "# Display the cleaned data\n",
    "print(gme_revenue.head())\n",
    "\n",
    "# Save to CSV\n",
    "gme_revenue.to_csv(\"gme_revenue.csv\", index=False)"
   ]
  },
  {
   "cell_type": "code",
   "execution_count": null,
   "metadata": {},
   "outputs": [],
   "source": [
    "# Plot Tesla Stock Price and Revenue\n",
    "fig, ax1 = plt.subplots(figsize=(14, 7))\n",
    "\n",
    "# Stock Price\n",
    "ax1.plot(tesla_stock['Date'], tesla_stock['Close'], color='blue', label=\"Stock Price\")\n",
    "ax1.set_xlabel(\"Date\")\n",
    "ax1.set_ylabel(\"Stock Price (USD)\", color='blue')\n",
    "ax1.tick_params(axis='y', labelcolor='blue')\n",
    "\n",
    "# Revenue\n",
    "ax2 = ax1.twinx()\n",
    "# ax2.plot(tesla_revenue['Date'], tesla_revenue['Revenue'], color='green', label=\"Revenue\")\n",
    "ax2.set_ylabel(\"Revenue (Million USD)\", color='green')\n",
    "ax2.tick_params(axis='y', labelcolor='green')\n",
    "\n",
    "fig.suptitle(\"Tesla Stock Price and Revenue\")\n",
    "fig.tight_layout()\n",
    "plt.show()"
   ]
  },
  {
   "cell_type": "code",
   "execution_count": null,
   "metadata": {},
   "outputs": [],
   "source": [
    "# Plot GameStop Stock Price and Revenue\n",
    "fig, ax1 = plt.subplots(figsize=(14, 7))\n",
    "\n",
    "# Stock Price\n",
    "ax1.plot(gme_stock['Date'], gme_stock['Close'], color='red', label=\"Stock Price\")\n",
    "ax1.set_xlabel(\"Date\")\n",
    "ax1.set_ylabel(\"Stock Price (USD)\", color='red')\n",
    "ax1.tick_params(axis='y', labelcolor='red')\n",
    "\n",
    "# Revenue\n",
    "ax2 = ax1.twinx()\n",
    "ax2.plot(gme_revenue['Date'], gme_revenue['Revenue'], color='purple', label=\"Revenue\")\n",
    "ax2.set_ylabel(\"Revenue (Million USD)\", color='purple')\n",
    "ax2.tick_params(axis='y', labelcolor='purple')\n",
    "\n",
    "fig.suptitle(\"GameStop Stock Price and Revenue\")\n",
    "fig.tight_layout()\n",
    "plt.show()"
   ]
  }
 ],
 "metadata": {
  "kernelspec": {
   "display_name": "Python 3",
   "language": "python",
   "name": "python3"
  },
  "language_info": {
   "codemirror_mode": {
    "name": "ipython",
    "version": 3
   },
   "file_extension": ".py",
   "mimetype": "text/x-python",
   "name": "python",
   "nbconvert_exporter": "python",
   "pygments_lexer": "ipython3",
   "version": "3.9.6"
  }
 },
 "nbformat": 4,
 "nbformat_minor": 2
}
